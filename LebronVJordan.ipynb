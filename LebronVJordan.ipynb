{
 "cells": [
  {
   "cell_type": "code",
   "execution_count": 225,
   "metadata": {},
   "outputs": [],
   "source": [
    "import pandas as pd\n",
    "import numpy as np\n",
    "import matplotlib as mpl\n",
    "import matplotlib.pyplot as plt\n",
    "\n",
    "LeBron = pd.read_csv('lebron_career.csv')\n",
    "Jordan = pd.read_csv('jordan_career.csv')\n"
   ]
  },
  {
   "cell_type": "code",
   "execution_count": 226,
   "metadata": {},
   "outputs": [],
   "source": [
    "Jordan = Jordan.drop([\"game\", \"date\", \"team\",\"minus_plus\",\"game_score\", \"age\"], axis = 1)\n",
    "LeBron = LeBron.drop([\"game\", \"date\", \"team\",\"minus_plus\",\"game_score\", \"age\"], axis = 1)"
   ]
  },
  {
   "cell_type": "code",
   "execution_count": null,
   "metadata": {},
   "outputs": [],
   "source": []
  },
  {
   "cell_type": "code",
   "execution_count": 227,
   "metadata": {},
   "outputs": [],
   "source": [
    "Jordan_means = Jordan[[\"pts\",\"ast\",\"trb\",\"blk\",\"stl\"]].mean()\n",
    "LeBron_means = LeBron[[\"pts\",\"ast\",\"trb\",\"blk\",\"stl\"]].mean()\n",
    "df1 = pd.DataFrame(LeBron_means.transpose())\n",
    "df2 = pd.DataFrame(Jordan_means.transpose())\n",
    "\n",
    "combined_means = {\"Jordan\": Jordan_means, \"LeBron\" : LeBron_means}\n",
    "mean_df = pd.DataFrame(combined_means)\n",
    "mean_df.index.name = 'Averages'\n",
    "mean_df = mean_df.transpose()"
   ]
  },
  {
   "cell_type": "code",
   "execution_count": 228,
   "metadata": {},
   "outputs": [
    {
     "data": {
      "text/html": [
       "<div>\n",
       "<style scoped>\n",
       "    .dataframe tbody tr th:only-of-type {\n",
       "        vertical-align: middle;\n",
       "    }\n",
       "\n",
       "    .dataframe tbody tr th {\n",
       "        vertical-align: top;\n",
       "    }\n",
       "\n",
       "    .dataframe thead th {\n",
       "        text-align: right;\n",
       "    }\n",
       "</style>\n",
       "<table border=\"1\" class=\"dataframe\">\n",
       "  <thead>\n",
       "    <tr style=\"text-align: right;\">\n",
       "      <th>Averages</th>\n",
       "      <th>pts</th>\n",
       "      <th>ast</th>\n",
       "      <th>trb</th>\n",
       "      <th>blk</th>\n",
       "      <th>stl</th>\n",
       "      <th>Athletes</th>\n",
       "    </tr>\n",
       "  </thead>\n",
       "  <tbody>\n",
       "    <tr>\n",
       "      <th>Jordan</th>\n",
       "      <td>30.123134</td>\n",
       "      <td>5.254664</td>\n",
       "      <td>6.223881</td>\n",
       "      <td>0.833022</td>\n",
       "      <td>2.345149</td>\n",
       "      <td>Jordan</td>\n",
       "    </tr>\n",
       "    <tr>\n",
       "      <th>LeBron</th>\n",
       "      <td>27.148410</td>\n",
       "      <td>7.163428</td>\n",
       "      <td>7.349823</td>\n",
       "      <td>0.782686</td>\n",
       "      <td>1.640459</td>\n",
       "      <td>LeBron</td>\n",
       "    </tr>\n",
       "  </tbody>\n",
       "</table>\n",
       "</div>"
      ],
      "text/plain": [
       "Averages        pts       ast       trb       blk       stl Athletes\n",
       "Jordan    30.123134  5.254664  6.223881  0.833022  2.345149   Jordan\n",
       "LeBron    27.148410  7.163428  7.349823  0.782686  1.640459   LeBron"
      ]
     },
     "execution_count": 228,
     "metadata": {},
     "output_type": "execute_result"
    }
   ],
   "source": [
    "mean_df[\"Athletes\"] = [\"Jordan\", \"LeBron\"]\n",
    "mean_df"
   ]
  },
  {
   "cell_type": "code",
   "execution_count": 229,
   "metadata": {},
   "outputs": [
    {
     "data": {
      "image/png": "[encoded data removed]",
      "text/plain": [
       "<Figure size 576x432 with 1 Axes>"
      ]
     },
     "metadata": {
      "needs_background": "light"
     },
     "output_type": "display_data"
    }
   ],
   "source": [
    "mpl.pyplot.figure(figsize=(8,6))\n",
    "\n",
    "par = pd.plotting.parallel_coordinates(mean_df.iloc[:2], \"Athletes\", colormap=mpl.pyplot.cm.cool)\n"
   ]
  },
  {
   "cell_type": "code",
   "execution_count": 243,
   "metadata": {},
   "outputs": [
    {
     "data": {
      "text/plain": [
       "3.4637809187279154"
      ]
     },
     "execution_count": 243,
     "metadata": {},
     "output_type": "execute_result"
    }
   ],
   "source": []
  }
 ],
 "metadata": {
  "kernelspec": {
   "display_name": "Python 3",
   "language": "python",
   "name": "python3"
  },
  "language_info": {
   "codemirror_mode": {
    "name": "ipython",
    "version": 3
   },
   "file_extension": ".py",
   "mimetype": "text/x-python",
   "name": "python",
   "nbconvert_exporter": "python",
   "pygments_lexer": "ipython3",
   "version": "3.7.0"
  }
 },
 "nbformat": 4,
 "nbformat_minor": 2
}
