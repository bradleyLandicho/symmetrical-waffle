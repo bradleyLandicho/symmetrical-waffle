{
 "cells": [
  {
   "cell_type": "markdown",
   "metadata": {},
   "source": [
    "<h1>LeBron VS Jordan (Regular Season)</h1>"
   ]
  },
  {
   "cell_type": "code",
   "execution_count": 469,
   "metadata": {},
   "outputs": [],
   "source": [
    "import pandas as pd\n",
    "import numpy as np\n",
    "import matplotlib as mpl\n",
    "import matplotlib.pyplot as plt\n",
    "from scipy import stats\n",
    "\n",
    "LeBron = pd.read_csv('lebron_career.csv')\n",
    "Jordan = pd.read_csv('jordan_career.csv')\n"
   ]
  },
  {
   "cell_type": "code",
   "execution_count": 470,
   "metadata": {},
   "outputs": [],
   "source": [
    "Jordan = Jordan.drop([\"game\", \"date\", \"team\",\"minus_plus\",\"game_score\"], axis = 1)\n",
    "LeBron = LeBron.drop([\"game\", \"date\", \"team\",\"minus_plus\",\"game_score\"], axis = 1)"
   ]
  },
  {
   "cell_type": "code",
   "execution_count": 471,
   "metadata": {},
   "outputs": [],
   "source": [
    "fgp_Jordan = Jordan.fg.sum() / Jordan.fga.sum()\n",
    "tpp_Jordan = Jordan.three.sum() / Jordan.threeatt.sum()\n",
    "\n",
    "fgp_LeBron = LeBron.fg.sum() / LeBron.fga.sum()\n",
    "tpp_LeBron = LeBron.three.sum() / LeBron.threeatt.sum()\n",
    "\n",
    "fgp = [fgp_Jordan*100,fgp_LeBron*100]\n",
    "tpp = [tpp_Jordan*100,tpp_LeBron*100]"
   ]
  },
  {
   "cell_type": "code",
   "execution_count": 472,
   "metadata": {},
   "outputs": [
    {
     "data": {
      "text/html": [
       "<div>\n",
       "<style scoped>\n",
       "    .dataframe tbody tr th:only-of-type {\n",
       "        vertical-align: middle;\n",
       "    }\n",
       "\n",
       "    .dataframe tbody tr th {\n",
       "        vertical-align: top;\n",
       "    }\n",
       "\n",
       "    .dataframe thead th {\n",
       "        text-align: right;\n",
       "    }\n",
       "</style>\n",
       "<table border=\"1\" class=\"dataframe\">\n",
       "  <thead>\n",
       "    <tr style=\"text-align: right;\">\n",
       "      <th>Averages</th>\n",
       "      <th>pts</th>\n",
       "      <th>ast</th>\n",
       "      <th>trb</th>\n",
       "      <th>blk</th>\n",
       "      <th>stl</th>\n",
       "      <th>fgPercent</th>\n",
       "      <th>3ptPercent</th>\n",
       "    </tr>\n",
       "  </thead>\n",
       "  <tbody>\n",
       "    <tr>\n",
       "      <th>Jordan</th>\n",
       "      <td>30.123134</td>\n",
       "      <td>5.254664</td>\n",
       "      <td>6.223881</td>\n",
       "      <td>0.833022</td>\n",
       "      <td>2.345149</td>\n",
       "      <td>49.688226</td>\n",
       "      <td>32.677165</td>\n",
       "    </tr>\n",
       "    <tr>\n",
       "      <th>LeBron</th>\n",
       "      <td>27.148410</td>\n",
       "      <td>7.163428</td>\n",
       "      <td>7.349823</td>\n",
       "      <td>0.782686</td>\n",
       "      <td>1.640459</td>\n",
       "      <td>50.376618</td>\n",
       "      <td>34.359526</td>\n",
       "    </tr>\n",
       "  </tbody>\n",
       "</table>\n",
       "</div>"
      ],
      "text/plain": [
       "Averages        pts       ast       trb       blk       stl  fgPercent  \\\n",
       "Jordan    30.123134  5.254664  6.223881  0.833022  2.345149  49.688226   \n",
       "LeBron    27.148410  7.163428  7.349823  0.782686  1.640459  50.376618   \n",
       "\n",
       "Averages  3ptPercent  \n",
       "Jordan     32.677165  \n",
       "LeBron     34.359526  "
      ]
     },
     "execution_count": 472,
     "metadata": {},
     "output_type": "execute_result"
    }
   ],
   "source": [
    "Jordan_means = Jordan[[\"pts\",\"ast\",\"trb\",\"blk\",\"stl\"]].mean()\n",
    "LeBron_means = LeBron[[\"pts\",\"ast\",\"trb\",\"blk\",\"stl\"]].mean()\n",
    "df1 = pd.DataFrame(LeBron_means.transpose())\n",
    "df2 = pd.DataFrame(Jordan_means.transpose())\n",
    "\n",
    "combined_means = {\"Jordan\": Jordan_means, \"LeBron\" : LeBron_means}\n",
    "mean_df = pd.DataFrame(combined_means)\n",
    "\n",
    "mean_df.index.name = 'Averages'\n",
    "mean_df = mean_df.transpose()\n",
    "\n",
    "mean_df[\"fgPercent\"] = fgp\n",
    "mean_df[\"3ptPercent\"] = tpp\n",
    "\n",
    "mean_df"
   ]
  },
  {
   "cell_type": "code",
   "execution_count": 473,
   "metadata": {},
   "outputs": [
    {
     "data": {
      "text/html": [
       "<div>\n",
       "<style scoped>\n",
       "    .dataframe tbody tr th:only-of-type {\n",
       "        vertical-align: middle;\n",
       "    }\n",
       "\n",
       "    .dataframe tbody tr th {\n",
       "        vertical-align: top;\n",
       "    }\n",
       "\n",
       "    .dataframe thead th {\n",
       "        text-align: right;\n",
       "    }\n",
       "</style>\n",
       "<table border=\"1\" class=\"dataframe\">\n",
       "  <thead>\n",
       "    <tr style=\"text-align: right;\">\n",
       "      <th></th>\n",
       "      <th>PPG</th>\n",
       "      <th>APG</th>\n",
       "      <th>RPG</th>\n",
       "      <th>SPG</th>\n",
       "      <th>BPG</th>\n",
       "      <th>FG%</th>\n",
       "      <th>3PT%</th>\n",
       "      <th>Athletes</th>\n",
       "    </tr>\n",
       "  </thead>\n",
       "  <tbody>\n",
       "    <tr>\n",
       "      <th>Jordan</th>\n",
       "      <td>30.123134</td>\n",
       "      <td>5.254664</td>\n",
       "      <td>6.223881</td>\n",
       "      <td>0.833022</td>\n",
       "      <td>2.345149</td>\n",
       "      <td>49.688226</td>\n",
       "      <td>32.677165</td>\n",
       "      <td>Jordan</td>\n",
       "    </tr>\n",
       "    <tr>\n",
       "      <th>LeBron</th>\n",
       "      <td>27.148410</td>\n",
       "      <td>7.163428</td>\n",
       "      <td>7.349823</td>\n",
       "      <td>0.782686</td>\n",
       "      <td>1.640459</td>\n",
       "      <td>50.376618</td>\n",
       "      <td>34.359526</td>\n",
       "      <td>LeBron</td>\n",
       "    </tr>\n",
       "  </tbody>\n",
       "</table>\n",
       "</div>"
      ],
      "text/plain": [
       "              PPG       APG       RPG       SPG       BPG        FG%  \\\n",
       "Jordan  30.123134  5.254664  6.223881  0.833022  2.345149  49.688226   \n",
       "LeBron  27.148410  7.163428  7.349823  0.782686  1.640459  50.376618   \n",
       "\n",
       "             3PT% Athletes  \n",
       "Jordan  32.677165   Jordan  \n",
       "LeBron  34.359526   LeBron  "
      ]
     },
     "execution_count": 473,
     "metadata": {},
     "output_type": "execute_result"
    }
   ],
   "source": [
    "mean_df[\"Athletes\"] = [\"Jordan\", \"LeBron\"]\n",
    "mean_df.columns = [\"PPG\",\"APG\",\"RPG\",\"SPG\", \"BPG\", \"FG%\", \"3PT%\", \"Athletes\"]\n",
    "mean_df"
   ]
  },
  {
   "cell_type": "code",
   "execution_count": 474,
   "metadata": {
    "scrolled": true
   },
   "outputs": [
    {
     "data": {
      "image/png": "[encoded data removed]",
      "text/plain": [
       "<Figure size 1008x432 with 1 Axes>"
      ]
     },
     "metadata": {
      "needs_background": "light"
     },
     "output_type": "display_data"
    }
   ],
   "source": [
    "mpl.pyplot.figure(figsize=(14,6))\n",
    "\n",
    "par = pd.plotting.parallel_coordinates(mean_df.iloc[:2], \"Athletes\", colormap=mpl.pyplot.cm.cool)\n"
   ]
  },
  {
   "cell_type": "code",
   "execution_count": 475,
   "metadata": {},
   "outputs": [
    {
     "data": {
      "text/plain": [
       "2.7276119402985075"
      ]
     },
     "execution_count": 475,
     "metadata": {},
     "output_type": "execute_result"
    }
   ],
   "source": [
    "LeBron.tov.sum()/LeBron.shape[0]\n",
    "Jordan.tov.sum()/Jordan.shape[0]\n"
   ]
  },
  {
   "cell_type": "code",
   "execution_count": 476,
   "metadata": {},
   "outputs": [
    {
     "data": {
      "image/png": "[encoded data removed]",
      "text/plain": [
       "<Figure size 432x288 with 1 Axes>"
      ]
     },
     "metadata": {
      "needs_background": "light"
     },
     "output_type": "display_data"
    }
   ],
   "source": [
    "n_groups = 2\n",
    "tov_LeBron = (LeBron.tov.sum()/LeBron.shape[0], mean_df.APG[1]/(LeBron.tov.sum()/LeBron.shape[0]))\n",
    "tov_Jordan = (Jordan.tov.sum()/Jordan.shape[0], mean_df.APG[0]/(Jordan.tov.sum()/Jordan.shape[0]))\n",
    "\n",
    "fig, ax = plt.subplots()\n",
    "bar_width = 0.3\n",
    "index = np.arange(n_groups)\n",
    "\n",
    "plot1 = plt.bar(index, tov_LeBron,bar_width,\n",
    "color='gold',\n",
    "label='LeBron')\n",
    "\n",
    "plot2 = plt.bar(index + bar_width, tov_Jordan,bar_width,\n",
    "                color='red',\n",
    "                label='Jordan')\n",
    "plt.xticks(index + bar_width, ('Turnovers Per Game', 'AST/TOV'))\n",
    "plt.legend()\n",
    "plt.title(\"Comparing Turnover Per Game\")\n",
    "\n",
    "plt.show()"
   ]
  },
  {
   "cell_type": "code",
   "execution_count": 477,
   "metadata": {},
   "outputs": [],
   "source": [
    "Jordan.age = Jordan['age'].str.replace('-','.')\n",
    "LeBron.age = LeBron['age'].str.replace('-','.')"
   ]
  },
  {
   "cell_type": "code",
   "execution_count": 478,
   "metadata": {},
   "outputs": [],
   "source": [
    "jordan_age_list = []\n",
    "for age in Jordan.age:\n",
    "    whole = age[0:2]\n",
    "    decimil = str(float(age[3:6])/365)\n",
    "    number = whole + decimil\n",
    "    number = number[0:2] +number[3:8]\n",
    "    number = float(number)\n",
    "    jordan_age_list.append(number)\n",
    "Jordan.age = jordan_age_list"
   ]
  },
  {
   "cell_type": "code",
   "execution_count": 479,
   "metadata": {},
   "outputs": [],
   "source": [
    "bron_age_list = []\n",
    "for age in LeBron.age:\n",
    "    whole = age[0:2]\n",
    "    decimil = str(float(age[3:6])/365)\n",
    "    number = whole + decimil\n",
    "    number = number[0:2] +number[3:8]\n",
    "    number = float(number)\n",
    "    bron_age_list.append(number)\n",
    "LeBron.age = bron_age_list\n"
   ]
  },
  {
   "cell_type": "code",
   "execution_count": 480,
   "metadata": {},
   "outputs": [
    {
     "data": {
      "image/png": "[encoded data removed]",
      "text/plain": [
       "<Figure size 432x288 with 1 Axes>"
      ]
     },
     "metadata": {
      "needs_background": "light"
     },
     "output_type": "display_data"
    }
   ],
   "source": [
    "fit = np.polyfit(LeBron.age,LeBron.pts,1)\n",
    "fit_fn = np.poly1d(fit)\n",
    "\n",
    "plt.plot(LeBron.age,LeBron.pts, 'yo', LeBron.age, fit_fn(LeBron.age))\n",
    "\n",
    "plt.title(\"Lebron's Points V Age\")\n",
    "plt.ylabel('Points')\n",
    "plt.xlabel(\"Age\")\n",
    "plt.show()\n",
    "\n",
    "# ppg(hat) =28.03709 + (-.03429)Age"
   ]
  },
  {
   "cell_type": "code",
   "execution_count": 481,
   "metadata": {},
   "outputs": [
    {
     "data": {
      "image/png": "[encoded data removed]",
      "text/plain": [
       "<Figure size 432x288 with 1 Axes>"
      ]
     },
     "metadata": {
      "needs_background": "light"
     },
     "output_type": "display_data"
    }
   ],
   "source": [
    "fit = np.polyfit(Jordan.age,Jordan.pts,1)\n",
    "fit_fn = np.poly1d(fit)\n",
    "\n",
    "plt.plot(Jordan.age,Jordan.pts, 'yo',Jordan.age, fit_fn(Jordan.age))\n",
    "\n",
    "plt.title(\"Jordan's Points V Age\")\n",
    "plt.ylabel('Points')\n",
    "plt.xlabel(\"Age\")\n",
    "plt.show()\n",
    "# ppg(hat) = 47.579 + (-.58522443)Age\n",
    "#p-value <.01"
   ]
  },
  {
   "cell_type": "code",
   "execution_count": 482,
   "metadata": {},
   "outputs": [
    {
     "data": {
      "text/html": [
       "<div>\n",
       "<style scoped>\n",
       "    .dataframe tbody tr th:only-of-type {\n",
       "        vertical-align: middle;\n",
       "    }\n",
       "\n",
       "    .dataframe tbody tr th {\n",
       "        vertical-align: top;\n",
       "    }\n",
       "\n",
       "    .dataframe thead th {\n",
       "        text-align: right;\n",
       "    }\n",
       "</style>\n",
       "<table border=\"1\" class=\"dataframe\">\n",
       "  <thead>\n",
       "    <tr style=\"text-align: right;\">\n",
       "      <th></th>\n",
       "      <th>age</th>\n",
       "      <th>pts</th>\n",
       "    </tr>\n",
       "  </thead>\n",
       "  <tbody>\n",
       "    <tr>\n",
       "      <th>0</th>\n",
       "      <td>18</td>\n",
       "      <td>20.161290</td>\n",
       "    </tr>\n",
       "    <tr>\n",
       "      <th>1</th>\n",
       "      <td>19</td>\n",
       "      <td>22.558442</td>\n",
       "    </tr>\n",
       "    <tr>\n",
       "      <th>2</th>\n",
       "      <td>20</td>\n",
       "      <td>29.320513</td>\n",
       "    </tr>\n",
       "    <tr>\n",
       "      <th>3</th>\n",
       "      <td>21</td>\n",
       "      <td>30.225000</td>\n",
       "    </tr>\n",
       "    <tr>\n",
       "      <th>4</th>\n",
       "      <td>22</td>\n",
       "      <td>27.907895</td>\n",
       "    </tr>\n",
       "    <tr>\n",
       "      <th>5</th>\n",
       "      <td>23</td>\n",
       "      <td>29.443038</td>\n",
       "    </tr>\n",
       "    <tr>\n",
       "      <th>6</th>\n",
       "      <td>24</td>\n",
       "      <td>28.726190</td>\n",
       "    </tr>\n",
       "    <tr>\n",
       "      <th>7</th>\n",
       "      <td>25</td>\n",
       "      <td>27.974026</td>\n",
       "    </tr>\n",
       "    <tr>\n",
       "      <th>8</th>\n",
       "      <td>26</td>\n",
       "      <td>28.729167</td>\n",
       "    </tr>\n",
       "    <tr>\n",
       "      <th>9</th>\n",
       "      <td>27</td>\n",
       "      <td>26.563218</td>\n",
       "    </tr>\n",
       "    <tr>\n",
       "      <th>10</th>\n",
       "      <td>28</td>\n",
       "      <td>26.597403</td>\n",
       "    </tr>\n",
       "    <tr>\n",
       "      <th>11</th>\n",
       "      <td>29</td>\n",
       "      <td>27.038961</td>\n",
       "    </tr>\n",
       "    <tr>\n",
       "      <th>12</th>\n",
       "      <td>30</td>\n",
       "      <td>25.449275</td>\n",
       "    </tr>\n",
       "    <tr>\n",
       "      <th>13</th>\n",
       "      <td>31</td>\n",
       "      <td>25.160000</td>\n",
       "    </tr>\n",
       "    <tr>\n",
       "      <th>14</th>\n",
       "      <td>32</td>\n",
       "      <td>27.345679</td>\n",
       "    </tr>\n",
       "    <tr>\n",
       "      <th>15</th>\n",
       "      <td>33</td>\n",
       "      <td>27.027778</td>\n",
       "    </tr>\n",
       "  </tbody>\n",
       "</table>\n",
       "</div>"
      ],
      "text/plain": [
       "    age        pts\n",
       "0    18  20.161290\n",
       "1    19  22.558442\n",
       "2    20  29.320513\n",
       "3    21  30.225000\n",
       "4    22  27.907895\n",
       "5    23  29.443038\n",
       "6    24  28.726190\n",
       "7    25  27.974026\n",
       "8    26  28.729167\n",
       "9    27  26.563218\n",
       "10   28  26.597403\n",
       "11   29  27.038961\n",
       "12   30  25.449275\n",
       "13   31  25.160000\n",
       "14   32  27.345679\n",
       "15   33  27.027778"
      ]
     },
     "execution_count": 482,
     "metadata": {},
     "output_type": "execute_result"
    }
   ],
   "source": [
    "L_ages = [int(age) for age in LeBron.age]\n",
    "L_pts = [pt for pt in LeBron.pts]\n",
    "LeBron_age_pt_df = pd.DataFrame()\n",
    "LeBron_age_pt_df[\"age\"] = L_ages\n",
    "LeBron_age_pt_df[\"pts\"] = L_pts\n",
    "\n",
    "L_ages = [age for age in set(LeBron_age_pt_df[\"age\"])]\n",
    "L_ages.sort()\n",
    "L_pts = []\n",
    "\n",
    "for age in L_ages:\n",
    "    L_pts.append(LeBron_age_pt_df[LeBron_age_pt_df[\"age\"]==age].mean()[\"pts\"])\n",
    "LeBron_mean_age_pt_df = pd.DataFrame()\n",
    "LeBron_mean_age_pt_df[\"age\"] = L_ages\n",
    "LeBron_mean_age_pt_df[\"pts\"] = L_pts\n",
    "LeBron_mean_age_pt_df"
   ]
  },
  {
   "cell_type": "code",
   "execution_count": 483,
   "metadata": {},
   "outputs": [
    {
     "data": {
      "text/html": [
       "<div>\n",
       "<style scoped>\n",
       "    .dataframe tbody tr th:only-of-type {\n",
       "        vertical-align: middle;\n",
       "    }\n",
       "\n",
       "    .dataframe tbody tr th {\n",
       "        vertical-align: top;\n",
       "    }\n",
       "\n",
       "    .dataframe thead th {\n",
       "        text-align: right;\n",
       "    }\n",
       "</style>\n",
       "<table border=\"1\" class=\"dataframe\">\n",
       "  <thead>\n",
       "    <tr style=\"text-align: right;\">\n",
       "      <th></th>\n",
       "      <th>age</th>\n",
       "      <th>pts</th>\n",
       "    </tr>\n",
       "  </thead>\n",
       "  <tbody>\n",
       "    <tr>\n",
       "      <th>0</th>\n",
       "      <td>21</td>\n",
       "      <td>27.666667</td>\n",
       "    </tr>\n",
       "    <tr>\n",
       "      <th>1</th>\n",
       "      <td>22</td>\n",
       "      <td>28.705882</td>\n",
       "    </tr>\n",
       "    <tr>\n",
       "      <th>2</th>\n",
       "      <td>23</td>\n",
       "      <td>33.609375</td>\n",
       "    </tr>\n",
       "    <tr>\n",
       "      <th>3</th>\n",
       "      <td>24</td>\n",
       "      <td>34.662651</td>\n",
       "    </tr>\n",
       "    <tr>\n",
       "      <th>4</th>\n",
       "      <td>25</td>\n",
       "      <td>35.912500</td>\n",
       "    </tr>\n",
       "    <tr>\n",
       "      <th>5</th>\n",
       "      <td>26</td>\n",
       "      <td>31.566265</td>\n",
       "    </tr>\n",
       "    <tr>\n",
       "      <th>6</th>\n",
       "      <td>27</td>\n",
       "      <td>32.234568</td>\n",
       "    </tr>\n",
       "    <tr>\n",
       "      <th>7</th>\n",
       "      <td>28</td>\n",
       "      <td>30.771084</td>\n",
       "    </tr>\n",
       "    <tr>\n",
       "      <th>8</th>\n",
       "      <td>29</td>\n",
       "      <td>31.848101</td>\n",
       "    </tr>\n",
       "    <tr>\n",
       "      <th>9</th>\n",
       "      <td>30</td>\n",
       "      <td>32.827586</td>\n",
       "    </tr>\n",
       "    <tr>\n",
       "      <th>10</th>\n",
       "      <td>32</td>\n",
       "      <td>29.895522</td>\n",
       "    </tr>\n",
       "    <tr>\n",
       "      <th>11</th>\n",
       "      <td>33</td>\n",
       "      <td>30.277108</td>\n",
       "    </tr>\n",
       "    <tr>\n",
       "      <th>12</th>\n",
       "      <td>34</td>\n",
       "      <td>28.380952</td>\n",
       "    </tr>\n",
       "    <tr>\n",
       "      <th>13</th>\n",
       "      <td>35</td>\n",
       "      <td>28.827586</td>\n",
       "    </tr>\n",
       "    <tr>\n",
       "      <th>14</th>\n",
       "      <td>38</td>\n",
       "      <td>24.795918</td>\n",
       "    </tr>\n",
       "    <tr>\n",
       "      <th>15</th>\n",
       "      <td>39</td>\n",
       "      <td>17.920635</td>\n",
       "    </tr>\n",
       "    <tr>\n",
       "      <th>16</th>\n",
       "      <td>40</td>\n",
       "      <td>22.366667</td>\n",
       "    </tr>\n",
       "  </tbody>\n",
       "</table>\n",
       "</div>"
      ],
      "text/plain": [
       "    age        pts\n",
       "0    21  27.666667\n",
       "1    22  28.705882\n",
       "2    23  33.609375\n",
       "3    24  34.662651\n",
       "4    25  35.912500\n",
       "5    26  31.566265\n",
       "6    27  32.234568\n",
       "7    28  30.771084\n",
       "8    29  31.848101\n",
       "9    30  32.827586\n",
       "10   32  29.895522\n",
       "11   33  30.277108\n",
       "12   34  28.380952\n",
       "13   35  28.827586\n",
       "14   38  24.795918\n",
       "15   39  17.920635\n",
       "16   40  22.366667"
      ]
     },
     "execution_count": 483,
     "metadata": {},
     "output_type": "execute_result"
    }
   ],
   "source": [
    "J_ages = [int(age) for age in Jordan.age]\n",
    "J_pts = [pt for pt in Jordan.pts]\n",
    "Jordan_age_pt_df = pd.DataFrame()\n",
    "Jordan_age_pt_df[\"age\"] = J_ages\n",
    "Jordan_age_pt_df[\"pts\"] = J_pts\n",
    "\n",
    "J_ages = [age for age in set(Jordan_age_pt_df[\"age\"])]\n",
    "J_ages.sort()\n",
    "J_pts = []\n",
    "\n",
    "for age in J_ages:\n",
    "    J_pts.append(Jordan_age_pt_df[Jordan_age_pt_df[\"age\"]==age].mean()[\"pts\"])\n",
    "Jordan_mean_age_pt_df = pd.DataFrame()\n",
    "Jordan_mean_age_pt_df[\"age\"] = J_ages\n",
    "Jordan_mean_age_pt_df[\"pts\"] = J_pts\n",
    "Jordan_mean_age_pt_df"
   ]
  },
  {
   "cell_type": "code",
   "execution_count": 484,
   "metadata": {},
   "outputs": [
    {
     "data": {
      "image/png": "[encoded data removed]",
      "text/plain": [
       "<Figure size 432x288 with 1 Axes>"
      ]
     },
     "metadata": {
      "needs_background": "light"
     },
     "output_type": "display_data"
    }
   ],
   "source": [
    "fit = np.polyfit(LeBron_mean_age_pt_df.age,LeBron_mean_age_pt_df.pts,1)\n",
    "fit_fn = np.poly1d(fit)\n",
    "\n",
    "plt.plot(LeBron_mean_age_pt_df.age,LeBron_mean_age_pt_df.pts, 'yo', LeBron_mean_age_pt_df.age, fit_fn(LeBron_mean_age_pt_df.age))\n",
    "\n",
    "plt.title(\"Lebron's Points V Age\")\n",
    "plt.ylabel('Points')\n",
    "plt.xlabel(\"Age\")\n",
    "plt.show()\n",
    "#p-value too high"
   ]
  },
  {
   "cell_type": "code",
   "execution_count": 492,
   "metadata": {},
   "outputs": [
    {
     "data": {
      "image/png": "[encoded data removed]",
      "text/plain": [
       "<Figure size 432x288 with 1 Axes>"
      ]
     },
     "metadata": {
      "needs_background": "light"
     },
     "output_type": "display_data"
    }
   ],
   "source": [
    "fit = np.polyfit(Jordan_mean_age_pt_df.age,Jordan_mean_age_pt_df.pts,1)\n",
    "fit_fn = np.poly1d(fit)\n",
    "\n",
    "plt.plot(Jordan_mean_age_pt_df.age, Jordan_mean_age_pt_df.pts,'yo', Jordan_mean_age_pt_df.age, fit_fn(Jordan_mean_age_pt_df.age))\n",
    "\n",
    "plt.title(\"Jordan's Points V Age\")\n",
    "plt.ylabel('Points')\n",
    "plt.xlabel(\"Age\")\n",
    "plt.show()"
   ]
  },
  {
   "cell_type": "code",
   "execution_count": 488,
   "metadata": {},
   "outputs": [
    {
     "data": {
      "text/plain": [
       "(0.13538613320269335, 0.6171258938184874)"
      ]
     },
     "execution_count": 488,
     "metadata": {},
     "output_type": "execute_result"
    }
   ],
   "source": []
  }
 ],
 "metadata": {
  "kernelspec": {
   "display_name": "Python 3",
   "language": "python",
   "name": "python3"
  },
  "language_info": {
   "codemirror_mode": {
    "name": "ipython",
    "version": 3
   },
   "file_extension": ".py",
   "mimetype": "text/x-python",
   "name": "python",
   "nbconvert_exporter": "python",
   "pygments_lexer": "ipython3",
   "version": "3.7.0"
  }
 },
 "nbformat": 4,
 "nbformat_minor": 2
}
