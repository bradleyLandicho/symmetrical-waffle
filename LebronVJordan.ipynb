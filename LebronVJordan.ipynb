{
 "cells": [
  {
   "cell_type": "markdown",
   "metadata": {},
   "source": [
    "<h1>LeBron VS Jordan (Regular Season)</h1>"
   ]
  },
  {
   "cell_type": "code",
   "execution_count": 123,
   "metadata": {},
   "outputs": [],
   "source": [
    "import pandas as pd\n",
    "import numpy as np\n",
    "import matplotlib as mpl\n",
    "import matplotlib.pyplot as plt\n",
    "\n",
    "LeBron = pd.read_csv('lebron_career.csv')\n",
    "Jordan = pd.read_csv('jordan_career.csv')\n"
   ]
  },
  {
   "cell_type": "code",
   "execution_count": 124,
   "metadata": {},
   "outputs": [],
   "source": [
    "Jordan = Jordan.drop([\"game\", \"date\", \"team\",\"minus_plus\",\"game_score\", \"age\"], axis = 1)\n",
    "LeBron = LeBron.drop([\"game\", \"date\", \"team\",\"minus_plus\",\"game_score\", \"age\"], axis = 1)"
   ]
  },
  {
   "cell_type": "code",
   "execution_count": 125,
   "metadata": {},
   "outputs": [],
   "source": [
    "fgp_Jordan = Jordan.fg.sum() / Jordan.fga.sum()\n",
    "tpp_Jordan = Jordan.three.sum() / Jordan.threeatt.sum()\n",
    "\n",
    "fgp_LeBron = LeBron.fg.sum() / LeBron.fga.sum()\n",
    "tpp_LeBron = LeBron.three.sum() / LeBron.threeatt.sum()\n",
    "\n",
    "fgp = [fgp_Jordan*100,fgp_LeBron*100]\n",
    "tpp = [tpp_Jordan*100,tpp_LeBron*100]"
   ]
  },
  {
   "cell_type": "code",
   "execution_count": 126,
   "metadata": {},
   "outputs": [
    {
     "data": {
      "text/html": [
       "<div>\n",
       "<style scoped>\n",
       "    .dataframe tbody tr th:only-of-type {\n",
       "        vertical-align: middle;\n",
       "    }\n",
       "\n",
       "    .dataframe tbody tr th {\n",
       "        vertical-align: top;\n",
       "    }\n",
       "\n",
       "    .dataframe thead th {\n",
       "        text-align: right;\n",
       "    }\n",
       "</style>\n",
       "<table border=\"1\" class=\"dataframe\">\n",
       "  <thead>\n",
       "    <tr style=\"text-align: right;\">\n",
       "      <th>Averages</th>\n",
       "      <th>pts</th>\n",
       "      <th>ast</th>\n",
       "      <th>trb</th>\n",
       "      <th>blk</th>\n",
       "      <th>stl</th>\n",
       "      <th>fgPercent</th>\n",
       "      <th>3ptPercent</th>\n",
       "    </tr>\n",
       "  </thead>\n",
       "  <tbody>\n",
       "    <tr>\n",
       "      <th>Jordan</th>\n",
       "      <td>30.123134</td>\n",
       "      <td>5.254664</td>\n",
       "      <td>6.223881</td>\n",
       "      <td>0.833022</td>\n",
       "      <td>2.345149</td>\n",
       "      <td>49.688226</td>\n",
       "      <td>32.677165</td>\n",
       "    </tr>\n",
       "    <tr>\n",
       "      <th>LeBron</th>\n",
       "      <td>27.148410</td>\n",
       "      <td>7.163428</td>\n",
       "      <td>7.349823</td>\n",
       "      <td>0.782686</td>\n",
       "      <td>1.640459</td>\n",
       "      <td>50.376618</td>\n",
       "      <td>34.359526</td>\n",
       "    </tr>\n",
       "  </tbody>\n",
       "</table>\n",
       "</div>"
      ],
      "text/plain": [
       "Averages        pts       ast       trb       blk       stl  fgPercent  \\\n",
       "Jordan    30.123134  5.254664  6.223881  0.833022  2.345149  49.688226   \n",
       "LeBron    27.148410  7.163428  7.349823  0.782686  1.640459  50.376618   \n",
       "\n",
       "Averages  3ptPercent  \n",
       "Jordan     32.677165  \n",
       "LeBron     34.359526  "
      ]
     },
     "execution_count": 126,
     "metadata": {},
     "output_type": "execute_result"
    }
   ],
   "source": [
    "Jordan_means = Jordan[[\"pts\",\"ast\",\"trb\",\"blk\",\"stl\"]].mean()\n",
    "LeBron_means = LeBron[[\"pts\",\"ast\",\"trb\",\"blk\",\"stl\"]].mean()\n",
    "df1 = pd.DataFrame(LeBron_means.transpose())\n",
    "df2 = pd.DataFrame(Jordan_means.transpose())\n",
    "\n",
    "combined_means = {\"Jordan\": Jordan_means, \"LeBron\" : LeBron_means}\n",
    "mean_df = pd.DataFrame(combined_means)\n",
    "\n",
    "mean_df.index.name = 'Averages'\n",
    "mean_df = mean_df.transpose()\n",
    "\n",
    "mean_df[\"fgPercent\"] = fgp\n",
    "mean_df[\"3ptPercent\"] = tpp\n",
    "\n",
    "# mean_df[\"fgPercent\"] = fgp_Jordan\n",
    "# mean_df[\"3ptPercent\"] = tpp_Jordan\n",
    "\n",
    "# mean_df.index.name = 'Averages'\n",
    "# mean_df = mean_df.transpose()\n",
    "mean_df"
   ]
  },
  {
   "cell_type": "code",
   "execution_count": 127,
   "metadata": {},
   "outputs": [
    {
     "data": {
      "text/html": [
       "<div>\n",
       "<style scoped>\n",
       "    .dataframe tbody tr th:only-of-type {\n",
       "        vertical-align: middle;\n",
       "    }\n",
       "\n",
       "    .dataframe tbody tr th {\n",
       "        vertical-align: top;\n",
       "    }\n",
       "\n",
       "    .dataframe thead th {\n",
       "        text-align: right;\n",
       "    }\n",
       "</style>\n",
       "<table border=\"1\" class=\"dataframe\">\n",
       "  <thead>\n",
       "    <tr style=\"text-align: right;\">\n",
       "      <th></th>\n",
       "      <th>PPG</th>\n",
       "      <th>APG</th>\n",
       "      <th>RPG</th>\n",
       "      <th>SPG</th>\n",
       "      <th>BPG</th>\n",
       "      <th>FG%</th>\n",
       "      <th>3PT%</th>\n",
       "      <th>Athletes</th>\n",
       "    </tr>\n",
       "  </thead>\n",
       "  <tbody>\n",
       "    <tr>\n",
       "      <th>Jordan</th>\n",
       "      <td>30.123134</td>\n",
       "      <td>5.254664</td>\n",
       "      <td>6.223881</td>\n",
       "      <td>0.833022</td>\n",
       "      <td>2.345149</td>\n",
       "      <td>49.688226</td>\n",
       "      <td>32.677165</td>\n",
       "      <td>Jordan</td>\n",
       "    </tr>\n",
       "    <tr>\n",
       "      <th>LeBron</th>\n",
       "      <td>27.148410</td>\n",
       "      <td>7.163428</td>\n",
       "      <td>7.349823</td>\n",
       "      <td>0.782686</td>\n",
       "      <td>1.640459</td>\n",
       "      <td>50.376618</td>\n",
       "      <td>34.359526</td>\n",
       "      <td>LeBron</td>\n",
       "    </tr>\n",
       "  </tbody>\n",
       "</table>\n",
       "</div>"
      ],
      "text/plain": [
       "              PPG       APG       RPG       SPG       BPG        FG%  \\\n",
       "Jordan  30.123134  5.254664  6.223881  0.833022  2.345149  49.688226   \n",
       "LeBron  27.148410  7.163428  7.349823  0.782686  1.640459  50.376618   \n",
       "\n",
       "             3PT% Athletes  \n",
       "Jordan  32.677165   Jordan  \n",
       "LeBron  34.359526   LeBron  "
      ]
     },
     "execution_count": 127,
     "metadata": {},
     "output_type": "execute_result"
    }
   ],
   "source": [
    "mean_df[\"Athletes\"] = [\"Jordan\", \"LeBron\"]\n",
    "mean_df.columns = [\"PPG\",\"APG\",\"RPG\",\"SPG\", \"BPG\", \"FG%\", \"3PT%\", \"Athletes\"]\n",
    "mean_df"
   ]
  },
  {
   "cell_type": "code",
   "execution_count": 128,
   "metadata": {
    "scrolled": true
   },
   "outputs": [
    {
     "data": {
      "image/png": "[encoded data removed]",
      "text/plain": [
       "<Figure size 1008x432 with 1 Axes>"
      ]
     },
     "metadata": {
      "needs_background": "light"
     },
     "output_type": "display_data"
    }
   ],
   "source": [
    "mpl.pyplot.figure(figsize=(14,6))\n",
    "\n",
    "par = pd.plotting.parallel_coordinates(mean_df.iloc[:2], \"Athletes\", colormap=mpl.pyplot.cm.cool)\n"
   ]
  },
  {
   "cell_type": "code",
   "execution_count": 129,
   "metadata": {},
   "outputs": [
    {
     "data": {
      "text/plain": [
       "2.7276119402985075"
      ]
     },
     "execution_count": 129,
     "metadata": {},
     "output_type": "execute_result"
    }
   ],
   "source": [
    "LeBron.tov.sum()/LeBron.shape[0]\n",
    "Jordan.tov.sum()/Jordan.shape[0]\n"
   ]
  },
  {
   "cell_type": "code",
   "execution_count": 135,
   "metadata": {},
   "outputs": [
    {
     "data": {
      "image/png": "[encoded data removed]",
      "text/plain": [
       "<Figure size 432x288 with 1 Axes>"
      ]
     },
     "metadata": {
      "needs_background": "light"
     },
     "output_type": "display_data"
    }
   ],
   "source": [
    "n_groups = 2\n",
    "tov_LeBron = (LeBron.tov.sum()/LeBron.shape[0], mean_df.APG[1]/(LeBron.tov.sum()/LeBron.shape[0]))\n",
    "tov_Jordan = (Jordan.tov.sum()/Jordan.shape[0], mean_df.APG[0]/(Jordan.tov.sum()/Jordan.shape[0]))\n",
    "\n",
    "fig, ax = plt.subplots()\n",
    "bar_width = 0.3\n",
    "index = np.arange(n_groups)\n",
    "\n",
    "plot1 = plt.bar(index, tov_LeBron,bar_width,\n",
    "color='gold',\n",
    "label='LeBron')\n",
    "\n",
    "plot2 = plt.bar(index + bar_width, tov_Jordan,bar_width,\n",
    "                color='red',\n",
    "                label='Jordan')\n",
    "plt.xticks(index + bar_width, ('Turnovers Per Game', 'AST/TOV'))\n",
    "plt.legend()\n",
    "\n",
    "plt.show()"
   ]
  },
  {
   "cell_type": "code",
   "execution_count": null,
   "metadata": {},
   "outputs": [],
   "source": []
  },
  {
   "cell_type": "code",
   "execution_count": null,
   "metadata": {},
   "outputs": [],
   "source": []
  }
 ],
 "metadata": {
  "kernelspec": {
   "display_name": "Python 3",
   "language": "python",
   "name": "python3"
  },
  "language_info": {
   "codemirror_mode": {
    "name": "ipython",
    "version": 3
   },
   "file_extension": ".py",
   "mimetype": "text/x-python",
   "name": "python",
   "nbconvert_exporter": "python",
   "pygments_lexer": "ipython3",
   "version": "3.7.0"
  }
 },
 "nbformat": 4,
 "nbformat_minor": 2
}
